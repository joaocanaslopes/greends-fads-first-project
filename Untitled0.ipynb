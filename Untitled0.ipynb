{
  "nbformat": 4,
  "nbformat_minor": 0,
  "metadata": {
    "colab": {
      "provenance": [],
      "mount_file_id": "1W5WTcnIHsksrYo4onvYIva2Vu9z97AnE",
      "authorship_tag": "ABX9TyP0k8AaHnVFsSPHXPEmlwUU",
      "include_colab_link": true
    },
    "kernelspec": {
      "name": "python3",
      "display_name": "Python 3"
    },
    "language_info": {
      "name": "python"
    }
  },
  "cells": [
    {
      "cell_type": "markdown",
      "metadata": {
        "id": "view-in-github",
        "colab_type": "text"
      },
      "source": [
        "<a href=\"https://colab.research.google.com/github/joaocanaslopes/greends-fads-first-project/blob/main/Untitled0.ipynb\" target=\"_parent\"><img src=\"https://colab.research.google.com/assets/colab-badge.svg\" alt=\"Open In Colab\"/></a>"
      ]
    },
    {
      "cell_type": "markdown",
      "source": [
        "#1º NoteBook\n",
        "##### Aula 7 python\n",
        "\n"
      ],
      "metadata": {
        "id": "B0RN5owD95so"
      }
    },
    {
      "cell_type": "markdown",
      "source": [
        "- 1º linha de codigo num notebook"
      ],
      "metadata": {
        "id": "s7XrEsnN_Dl9"
      }
    },
    {
      "cell_type": "code",
      "execution_count": 2,
      "metadata": {
        "colab": {
          "base_uri": "https://localhost:8080/"
        },
        "id": "PbG42YqL7pfw",
        "outputId": "ca59b54f-0aa3-4a83-ba8e-d60512eb348d"
      },
      "outputs": [
        {
          "output_type": "stream",
          "name": "stdout",
          "text": [
            "ola\n"
          ]
        }
      ],
      "source": [
        "print(\"ola\")"
      ]
    }
  ]
}